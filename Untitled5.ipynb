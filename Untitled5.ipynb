{
  "nbformat": 4,
  "nbformat_minor": 0,
  "metadata": {
    "colab": {
      "provenance": [],
      "collapsed_sections": [],
      "authorship_tag": "ABX9TyO69NmFoObcbhp/KVA4r6C5",
      "include_colab_link": true
    },
    "kernelspec": {
      "name": "python3",
      "display_name": "Python 3"
    },
    "language_info": {
      "name": "python"
    }
  },
  "cells": [
    {
      "cell_type": "markdown",
      "metadata": {
        "id": "view-in-github",
        "colab_type": "text"
      },
      "source": [
        "<a href=\"https://colab.research.google.com/github/pranittandel99/week1/blob/main/Untitled5.ipynb\" target=\"_parent\"><img src=\"https://colab.research.google.com/assets/colab-badge.svg\" alt=\"Open In Colab\"/></a>"
      ]
    },
    {
      "cell_type": "markdown",
      "source": [
        "PYTHON PROGRAMMING 2\n",
        "WEEK 1"
      ],
      "metadata": {
        "id": "dpmI_jd-MGpg"
      }
    },
    {
      "cell_type": "markdown",
      "source": [
        "SECTION A"
      ],
      "metadata": {
        "id": "H-WIB3DsZJcE"
      }
    },
    {
      "cell_type": "code",
      "source": [
        "#program 1\n",
        "print(\"Hello World\")"
      ],
      "metadata": {
        "colab": {
          "base_uri": "https://localhost:8080/"
        },
        "id": "KbFCzsYRMnwU",
        "outputId": "4706f1f2-ce47-4fe1-a4b5-d93bdf73cb14"
      },
      "execution_count": null,
      "outputs": [
        {
          "output_type": "stream",
          "name": "stdout",
          "text": [
            "Hello World\n"
          ]
        }
      ]
    },
    {
      "cell_type": "code",
      "source": [
        "a,b=30,10\n",
        "print(\"a + b =\",a+b)\n",
        "print(\"a/b =\",a/b)"
      ],
      "metadata": {
        "colab": {
          "base_uri": "https://localhost:8080/"
        },
        "id": "qHuW-x0OMzAm",
        "outputId": "09881b3b-3410-4793-b974-142c2738e792"
      },
      "execution_count": null,
      "outputs": [
        {
          "output_type": "stream",
          "name": "stdout",
          "text": [
            "a + b = 40\n",
            "a/b = 3.0\n"
          ]
        }
      ]
    },
    {
      "cell_type": "code",
      "source": [
        "a=int(input(\"height of traingle :\"))\n",
        "b=int(input(\"base of triangle :\"))\n",
        "c=0.5*a*b\n",
        "print(\"the area of the triangle is :\",c)"
      ],
      "metadata": {
        "colab": {
          "base_uri": "https://localhost:8080/"
        },
        "id": "Zm2zGc0qNNmE",
        "outputId": "b09c038b-bac8-4f32-a03b-4664dd8b2094"
      },
      "execution_count": null,
      "outputs": [
        {
          "output_type": "stream",
          "name": "stdout",
          "text": [
            "height of traingle :3\n",
            "base of triangle :2\n",
            "the area of the triangle is : 3.0\n"
          ]
        }
      ]
    },
    {
      "cell_type": "code",
      "source": [
        "x=30\n",
        "y=20\n",
        "temp=x\n",
        "x=y\n",
        "y=temp\n",
        "print(\"the value of x\",x)\n",
        "print(\"the value of y\",y)"
      ],
      "metadata": {
        "colab": {
          "base_uri": "https://localhost:8080/"
        },
        "id": "mwEH3g9eN5Rc",
        "outputId": "d162aef9-c15b-490e-af73-9ca4971b0616"
      },
      "execution_count": null,
      "outputs": [
        {
          "output_type": "stream",
          "name": "stdout",
          "text": [
            "the value of x 20\n",
            "the value of y 30\n"
          ]
        }
      ]
    },
    {
      "cell_type": "code",
      "source": [
        "#random number \n",
        "import random\n",
        "\n",
        "rad=random.random()\n",
        "print(rad) "
      ],
      "metadata": {
        "colab": {
          "base_uri": "https://localhost:8080/"
        },
        "id": "OxgHnEUjO2ax",
        "outputId": "13c8f765-9514-4e27-e9fc-4b64cbd301f0"
      },
      "execution_count": null,
      "outputs": [
        {
          "output_type": "stream",
          "name": "stdout",
          "text": [
            "0.8245650263699373\n"
          ]
        }
      ]
    },
    {
      "cell_type": "markdown",
      "source": [
        "SECTION B"
      ],
      "metadata": {
        "id": "RniKl5mkZNWU"
      }
    },
    {
      "cell_type": "code",
      "source": [
        "x=int(input(\"any value :\"))\n",
        "y=x*0.6213\n",
        "print(x,\"Km =\",y,\"miles\")"
      ],
      "metadata": {
        "colab": {
          "base_uri": "https://localhost:8080/"
        },
        "id": "HfAa65WHP6Dr",
        "outputId": "082f436f-9997-44e5-f713-1450e18f7e38"
      },
      "execution_count": null,
      "outputs": [
        {
          "output_type": "stream",
          "name": "stdout",
          "text": [
            "any value :5\n",
            "5 Km = 3.1064999999999996 miles\n"
          ]
        }
      ]
    },
    {
      "cell_type": "code",
      "source": [
        "a=int(input(\"value of dgree :\"))\n",
        "b=(a*9/5)+32\n",
        "print(a,\"dgree =\",b,\"F\")"
      ],
      "metadata": {
        "colab": {
          "base_uri": "https://localhost:8080/"
        },
        "id": "VR_-EcLXQlYb",
        "outputId": "23b1458a-df2d-4fce-819d-6a1683ea3a07"
      },
      "execution_count": null,
      "outputs": [
        {
          "output_type": "stream",
          "name": "stdout",
          "text": [
            "value of dgree :26\n",
            "26 dgree = 78.8 F\n"
          ]
        }
      ]
    },
    {
      "cell_type": "code",
      "source": [
        "import calendar\n",
        "year=2022\n",
        "print(calendar.calendar(year))"
      ],
      "metadata": {
        "colab": {
          "base_uri": "https://localhost:8080/"
        },
        "id": "ZhuiQnQLRqA1",
        "outputId": "c0fde221-dbb1-4d21-83a4-9e9ccb28463b"
      },
      "execution_count": null,
      "outputs": [
        {
          "output_type": "stream",
          "name": "stdout",
          "text": [
            "                                  2022\n",
            "\n",
            "      January                   February                   March\n",
            "Mo Tu We Th Fr Sa Su      Mo Tu We Th Fr Sa Su      Mo Tu We Th Fr Sa Su\n",
            "                1  2          1  2  3  4  5  6          1  2  3  4  5  6\n",
            " 3  4  5  6  7  8  9       7  8  9 10 11 12 13       7  8  9 10 11 12 13\n",
            "10 11 12 13 14 15 16      14 15 16 17 18 19 20      14 15 16 17 18 19 20\n",
            "17 18 19 20 21 22 23      21 22 23 24 25 26 27      21 22 23 24 25 26 27\n",
            "24 25 26 27 28 29 30      28                        28 29 30 31\n",
            "31\n",
            "\n",
            "       April                      May                       June\n",
            "Mo Tu We Th Fr Sa Su      Mo Tu We Th Fr Sa Su      Mo Tu We Th Fr Sa Su\n",
            "             1  2  3                         1             1  2  3  4  5\n",
            " 4  5  6  7  8  9 10       2  3  4  5  6  7  8       6  7  8  9 10 11 12\n",
            "11 12 13 14 15 16 17       9 10 11 12 13 14 15      13 14 15 16 17 18 19\n",
            "18 19 20 21 22 23 24      16 17 18 19 20 21 22      20 21 22 23 24 25 26\n",
            "25 26 27 28 29 30         23 24 25 26 27 28 29      27 28 29 30\n",
            "                          30 31\n",
            "\n",
            "        July                     August                  September\n",
            "Mo Tu We Th Fr Sa Su      Mo Tu We Th Fr Sa Su      Mo Tu We Th Fr Sa Su\n",
            "             1  2  3       1  2  3  4  5  6  7                1  2  3  4\n",
            " 4  5  6  7  8  9 10       8  9 10 11 12 13 14       5  6  7  8  9 10 11\n",
            "11 12 13 14 15 16 17      15 16 17 18 19 20 21      12 13 14 15 16 17 18\n",
            "18 19 20 21 22 23 24      22 23 24 25 26 27 28      19 20 21 22 23 24 25\n",
            "25 26 27 28 29 30 31      29 30 31                  26 27 28 29 30\n",
            "\n",
            "      October                   November                  December\n",
            "Mo Tu We Th Fr Sa Su      Mo Tu We Th Fr Sa Su      Mo Tu We Th Fr Sa Su\n",
            "                1  2          1  2  3  4  5  6                1  2  3  4\n",
            " 3  4  5  6  7  8  9       7  8  9 10 11 12 13       5  6  7  8  9 10 11\n",
            "10 11 12 13 14 15 16      14 15 16 17 18 19 20      12 13 14 15 16 17 18\n",
            "17 18 19 20 21 22 23      21 22 23 24 25 26 27      19 20 21 22 23 24 25\n",
            "24 25 26 27 28 29 30      28 29 30                  26 27 28 29 30 31\n",
            "31\n",
            "\n"
          ]
        }
      ]
    },
    {
      "cell_type": "code",
      "source": [
        "import cmath\n",
        "a=int(input(\"enter the value of a :\"))\n",
        "b=int(input(\"enter the value of b :\"))\n",
        "c=int(input(\"enter the value of c :\"))\n",
        "d=(b**2)-(4*a*c)\n",
        "x=(-b+cmath.sqrt(d))/(2*a)\n",
        "y=(-b-cmath.sqrt(d))/(2*a)\n",
        "print(\"the solution for the given eq is\",x,\"and\",y)"
      ],
      "metadata": {
        "colab": {
          "base_uri": "https://localhost:8080/"
        },
        "id": "0NV3KDwVSQgq",
        "outputId": "2b2f3793-7e87-4fa2-ac68-646254379668"
      },
      "execution_count": null,
      "outputs": [
        {
          "output_type": "stream",
          "name": "stdout",
          "text": [
            "enter the value of a :2\n",
            "enter the value of b :3\n",
            "enter the value of c :4\n",
            "the solution for the given eq is (-0.75+1.1989578808281798j) and (-0.75-1.1989578808281798j)\n"
          ]
        }
      ]
    },
    {
      "cell_type": "code",
      "source": [
        "x=20\n",
        "y=30\n",
        "x,y=y,x\n",
        "print(\"the value of x :\",x)\n",
        "print(\"the value of y :\",y)"
      ],
      "metadata": {
        "colab": {
          "base_uri": "https://localhost:8080/"
        },
        "id": "cwNi8PKiUV4g",
        "outputId": "737d06b4-4936-4e75-c19f-59f8174f1908"
      },
      "execution_count": null,
      "outputs": [
        {
          "output_type": "stream",
          "name": "stdout",
          "text": [
            "the value of x : 30\n",
            "the value of y : 20\n"
          ]
        }
      ]
    },
    {
      "cell_type": "markdown",
      "source": [
        "SECTION C"
      ],
      "metadata": {
        "id": "miTHm-1DZDbN"
      }
    },
    {
      "cell_type": "code",
      "source": [
        "a=int(input(\"enter the value of a :\"))\n",
        "b=int(input(\"enter the value of b :\"))\n",
        "c=int(input(\"enter the value of c :\"))\n",
        "if a>0:\n",
        "  print(\"the number is postive\")\n",
        "elif a<0:\n",
        "  print(\"the number is negative\")\n",
        "  else:\n",
        "     print(\"the number is zero\")"
      ],
      "metadata": {
        "colab": {
          "base_uri": "https://localhost:8080/",
          "height": 133
        },
        "id": "FAXUf7kSV7jP",
        "outputId": "641704da-1914-45d6-ab74-943b2d2535e6"
      },
      "execution_count": null,
      "outputs": [
        {
          "output_type": "error",
          "ename": "SyntaxError",
          "evalue": "ignored",
          "traceback": [
            "\u001b[0;36m  File \u001b[0;32m\"<ipython-input-34-c5a7836a51b5>\"\u001b[0;36m, line \u001b[0;32m8\u001b[0m\n\u001b[0;31m    else:\u001b[0m\n\u001b[0m       ^\u001b[0m\n\u001b[0;31mSyntaxError\u001b[0m\u001b[0;31m:\u001b[0m invalid syntax\n"
          ]
        }
      ]
    },
    {
      "cell_type": "code",
      "source": [
        "x=int(input(\"enter any number :\"))\n",
        "if (x%2)==0:\n",
        "  print(x,\"is even\")\n",
        "else:\n",
        "    print(x,\"is odd\")"
      ],
      "metadata": {
        "colab": {
          "base_uri": "https://localhost:8080/"
        },
        "id": "VPZaNI-hLSY8",
        "outputId": "094f6df0-79af-431c-cee4-273b1cdab9fe"
      },
      "execution_count": null,
      "outputs": [
        {
          "output_type": "stream",
          "name": "stdout",
          "text": [
            "enter any number :43\n",
            "43 is odd\n"
          ]
        }
      ]
    },
    {
      "cell_type": "code",
      "source": [
        "x=int(input(\"enter any number :\"))\n",
        "if (x%2)==0:\n",
        "  print(x,\"is even\")\n",
        "else:\n",
        "    print(x,\"is odd\")"
      ],
      "metadata": {
        "colab": {
          "base_uri": "https://localhost:8080/"
        },
        "id": "1mgeDwdfMRKr",
        "outputId": "58ce5e65-783e-4554-f1ed-02d8e438394a"
      },
      "execution_count": null,
      "outputs": [
        {
          "output_type": "stream",
          "name": "stdout",
          "text": [
            "enter any number :44\n",
            "44 is even\n"
          ]
        }
      ]
    },
    {
      "cell_type": "code",
      "source": [
        "year=int(input(\"Entert the year:\"))\n",
        "if (year%4)==0:\n",
        "  print(year,\"is the leap year\")\n",
        "else:\n",
        "  print(year,\"is not a leap year\")"
      ],
      "metadata": {
        "colab": {
          "base_uri": "https://localhost:8080/"
        },
        "id": "hbT3O2GMMUvZ",
        "outputId": "2d8593df-4ace-4103-d790-b07bd31af3ea"
      },
      "execution_count": null,
      "outputs": [
        {
          "output_type": "stream",
          "name": "stdout",
          "text": [
            "Entert the year:2004\n",
            "2004 is the leap year\n"
          ]
        }
      ]
    },
    {
      "cell_type": "code",
      "source": [
        "year=int(input(\"Entert the year:\"))\n",
        "if (year%4)==0:\n",
        "  print(year,\"is the leap year\")\n",
        "else:\n",
        "  print(year,\"is not a leap year\")"
      ],
      "metadata": {
        "colab": {
          "base_uri": "https://localhost:8080/"
        },
        "id": "V7TFXG7bNARX",
        "outputId": "36d7cac1-9fa1-4495-eb5e-942a12f16db2"
      },
      "execution_count": null,
      "outputs": [
        {
          "output_type": "stream",
          "name": "stdout",
          "text": [
            "Entert the year:2003\n",
            "2003 is not a leap year\n"
          ]
        }
      ]
    },
    {
      "cell_type": "code",
      "source": [
        "num=int(input(\"Enter the number:\"))\n",
        "if num==1:\n",
        "  print(num,\"is nor prime nor composite\")\n",
        "for i in range(2,num):\n",
        "  if (num%i)==0:\n",
        "    print(num,\"is not a prime number \")\n",
        "  else:\n",
        "    print(num,\"is a prime number\")\n",
        "    break\n"
      ],
      "metadata": {
        "colab": {
          "base_uri": "https://localhost:8080/"
        },
        "id": "qiPTON4GNDvE",
        "outputId": "0d4c4867-8f63-48c1-dba1-46550450f681"
      },
      "execution_count": null,
      "outputs": [
        {
          "output_type": "stream",
          "name": "stdout",
          "text": [
            "Enter the number:1\n",
            "1 is nor prime nor composite\n"
          ]
        }
      ]
    },
    {
      "cell_type": "code",
      "source": [
        "lower = 1\n",
        "upper = 10000\n",
        "print(\"Prime numbers between\", lower, \"and\", upper, \"are:\")\n",
        "for num in range(lower, upper + 1):\n",
        "   if num > 1:\n",
        "       for i in range(2, num):\n",
        "           if (num % i) == 0:\n",
        "               break\n",
        "       else:\n",
        "           print(num)"
      ],
      "metadata": {
        "colab": {
          "base_uri": "https://localhost:8080/"
        },
        "id": "GIPK9Ao1P8Cx",
        "outputId": "f6320ed0-2627-475c-8368-a1300616b728"
      },
      "execution_count": 3,
      "outputs": [
        {
          "output_type": "stream",
          "name": "stdout",
          "text": [
            "Prime numbers between 1 and 10000 are:\n",
            "2\n",
            "3\n",
            "5\n",
            "7\n",
            "11\n",
            "13\n",
            "17\n",
            "19\n",
            "23\n",
            "29\n",
            "31\n",
            "37\n",
            "41\n",
            "43\n",
            "47\n",
            "53\n",
            "59\n",
            "61\n",
            "67\n",
            "71\n",
            "73\n",
            "79\n",
            "83\n",
            "89\n",
            "97\n",
            "101\n",
            "103\n",
            "107\n",
            "109\n",
            "113\n",
            "127\n",
            "131\n",
            "137\n",
            "139\n",
            "149\n",
            "151\n",
            "157\n",
            "163\n",
            "167\n",
            "173\n",
            "179\n",
            "181\n",
            "191\n",
            "193\n",
            "197\n",
            "199\n",
            "211\n",
            "223\n",
            "227\n",
            "229\n",
            "233\n",
            "239\n",
            "241\n",
            "251\n",
            "257\n",
            "263\n",
            "269\n",
            "271\n",
            "277\n",
            "281\n",
            "283\n",
            "293\n",
            "307\n",
            "311\n",
            "313\n",
            "317\n",
            "331\n",
            "337\n",
            "347\n",
            "349\n",
            "353\n",
            "359\n",
            "367\n",
            "373\n",
            "379\n",
            "383\n",
            "389\n",
            "397\n",
            "401\n",
            "409\n",
            "419\n",
            "421\n",
            "431\n",
            "433\n",
            "439\n",
            "443\n",
            "449\n",
            "457\n",
            "461\n",
            "463\n",
            "467\n",
            "479\n",
            "487\n",
            "491\n",
            "499\n",
            "503\n",
            "509\n",
            "521\n",
            "523\n",
            "541\n",
            "547\n",
            "557\n",
            "563\n",
            "569\n",
            "571\n",
            "577\n",
            "587\n",
            "593\n",
            "599\n",
            "601\n",
            "607\n",
            "613\n",
            "617\n",
            "619\n",
            "631\n",
            "641\n",
            "643\n",
            "647\n",
            "653\n",
            "659\n",
            "661\n",
            "673\n",
            "677\n",
            "683\n",
            "691\n",
            "701\n",
            "709\n",
            "719\n",
            "727\n",
            "733\n",
            "739\n",
            "743\n",
            "751\n",
            "757\n",
            "761\n",
            "769\n",
            "773\n",
            "787\n",
            "797\n",
            "809\n",
            "811\n",
            "821\n",
            "823\n",
            "827\n",
            "829\n",
            "839\n",
            "853\n",
            "857\n",
            "859\n",
            "863\n",
            "877\n",
            "881\n",
            "883\n",
            "887\n",
            "907\n",
            "911\n",
            "919\n",
            "929\n",
            "937\n",
            "941\n",
            "947\n",
            "953\n",
            "967\n",
            "971\n",
            "977\n",
            "983\n",
            "991\n",
            "997\n",
            "1009\n",
            "1013\n",
            "1019\n",
            "1021\n",
            "1031\n",
            "1033\n",
            "1039\n",
            "1049\n",
            "1051\n",
            "1061\n",
            "1063\n",
            "1069\n",
            "1087\n",
            "1091\n",
            "1093\n",
            "1097\n",
            "1103\n",
            "1109\n",
            "1117\n",
            "1123\n",
            "1129\n",
            "1151\n",
            "1153\n",
            "1163\n",
            "1171\n",
            "1181\n",
            "1187\n",
            "1193\n",
            "1201\n",
            "1213\n",
            "1217\n",
            "1223\n",
            "1229\n",
            "1231\n",
            "1237\n",
            "1249\n",
            "1259\n",
            "1277\n",
            "1279\n",
            "1283\n",
            "1289\n",
            "1291\n",
            "1297\n",
            "1301\n",
            "1303\n",
            "1307\n",
            "1319\n",
            "1321\n",
            "1327\n",
            "1361\n",
            "1367\n",
            "1373\n",
            "1381\n",
            "1399\n",
            "1409\n",
            "1423\n",
            "1427\n",
            "1429\n",
            "1433\n",
            "1439\n",
            "1447\n",
            "1451\n",
            "1453\n",
            "1459\n",
            "1471\n",
            "1481\n",
            "1483\n",
            "1487\n",
            "1489\n",
            "1493\n",
            "1499\n",
            "1511\n",
            "1523\n",
            "1531\n",
            "1543\n",
            "1549\n",
            "1553\n",
            "1559\n",
            "1567\n",
            "1571\n",
            "1579\n",
            "1583\n",
            "1597\n",
            "1601\n",
            "1607\n",
            "1609\n",
            "1613\n",
            "1619\n",
            "1621\n",
            "1627\n",
            "1637\n",
            "1657\n",
            "1663\n",
            "1667\n",
            "1669\n",
            "1693\n",
            "1697\n",
            "1699\n",
            "1709\n",
            "1721\n",
            "1723\n",
            "1733\n",
            "1741\n",
            "1747\n",
            "1753\n",
            "1759\n",
            "1777\n",
            "1783\n",
            "1787\n",
            "1789\n",
            "1801\n",
            "1811\n",
            "1823\n",
            "1831\n",
            "1847\n",
            "1861\n",
            "1867\n",
            "1871\n",
            "1873\n",
            "1877\n",
            "1879\n",
            "1889\n",
            "1901\n",
            "1907\n",
            "1913\n",
            "1931\n",
            "1933\n",
            "1949\n",
            "1951\n",
            "1973\n",
            "1979\n",
            "1987\n",
            "1993\n",
            "1997\n",
            "1999\n",
            "2003\n",
            "2011\n",
            "2017\n",
            "2027\n",
            "2029\n",
            "2039\n",
            "2053\n",
            "2063\n",
            "2069\n",
            "2081\n",
            "2083\n",
            "2087\n",
            "2089\n",
            "2099\n",
            "2111\n",
            "2113\n",
            "2129\n",
            "2131\n",
            "2137\n",
            "2141\n",
            "2143\n",
            "2153\n",
            "2161\n",
            "2179\n",
            "2203\n",
            "2207\n",
            "2213\n",
            "2221\n",
            "2237\n",
            "2239\n",
            "2243\n",
            "2251\n",
            "2267\n",
            "2269\n",
            "2273\n",
            "2281\n",
            "2287\n",
            "2293\n",
            "2297\n",
            "2309\n",
            "2311\n",
            "2333\n",
            "2339\n",
            "2341\n",
            "2347\n",
            "2351\n",
            "2357\n",
            "2371\n",
            "2377\n",
            "2381\n",
            "2383\n",
            "2389\n",
            "2393\n",
            "2399\n",
            "2411\n",
            "2417\n",
            "2423\n",
            "2437\n",
            "2441\n",
            "2447\n",
            "2459\n",
            "2467\n",
            "2473\n",
            "2477\n",
            "2503\n",
            "2521\n",
            "2531\n",
            "2539\n",
            "2543\n",
            "2549\n",
            "2551\n",
            "2557\n",
            "2579\n",
            "2591\n",
            "2593\n",
            "2609\n",
            "2617\n",
            "2621\n",
            "2633\n",
            "2647\n",
            "2657\n",
            "2659\n",
            "2663\n",
            "2671\n",
            "2677\n",
            "2683\n",
            "2687\n",
            "2689\n",
            "2693\n",
            "2699\n",
            "2707\n",
            "2711\n",
            "2713\n",
            "2719\n",
            "2729\n",
            "2731\n",
            "2741\n",
            "2749\n",
            "2753\n",
            "2767\n",
            "2777\n",
            "2789\n",
            "2791\n",
            "2797\n",
            "2801\n",
            "2803\n",
            "2819\n",
            "2833\n",
            "2837\n",
            "2843\n",
            "2851\n",
            "2857\n",
            "2861\n",
            "2879\n",
            "2887\n",
            "2897\n",
            "2903\n",
            "2909\n",
            "2917\n",
            "2927\n",
            "2939\n",
            "2953\n",
            "2957\n",
            "2963\n",
            "2969\n",
            "2971\n",
            "2999\n",
            "3001\n",
            "3011\n",
            "3019\n",
            "3023\n",
            "3037\n",
            "3041\n",
            "3049\n",
            "3061\n",
            "3067\n",
            "3079\n",
            "3083\n",
            "3089\n",
            "3109\n",
            "3119\n",
            "3121\n",
            "3137\n",
            "3163\n",
            "3167\n",
            "3169\n",
            "3181\n",
            "3187\n",
            "3191\n",
            "3203\n",
            "3209\n",
            "3217\n",
            "3221\n",
            "3229\n",
            "3251\n",
            "3253\n",
            "3257\n",
            "3259\n",
            "3271\n",
            "3299\n",
            "3301\n",
            "3307\n",
            "3313\n",
            "3319\n",
            "3323\n",
            "3329\n",
            "3331\n",
            "3343\n",
            "3347\n",
            "3359\n",
            "3361\n",
            "3371\n",
            "3373\n",
            "3389\n",
            "3391\n",
            "3407\n",
            "3413\n",
            "3433\n",
            "3449\n",
            "3457\n",
            "3461\n",
            "3463\n",
            "3467\n",
            "3469\n",
            "3491\n",
            "3499\n",
            "3511\n",
            "3517\n",
            "3527\n",
            "3529\n",
            "3533\n",
            "3539\n",
            "3541\n",
            "3547\n",
            "3557\n",
            "3559\n",
            "3571\n",
            "3581\n",
            "3583\n",
            "3593\n",
            "3607\n",
            "3613\n",
            "3617\n",
            "3623\n",
            "3631\n",
            "3637\n",
            "3643\n",
            "3659\n",
            "3671\n",
            "3673\n",
            "3677\n",
            "3691\n",
            "3697\n",
            "3701\n",
            "3709\n",
            "3719\n",
            "3727\n",
            "3733\n",
            "3739\n",
            "3761\n",
            "3767\n",
            "3769\n",
            "3779\n",
            "3793\n",
            "3797\n",
            "3803\n",
            "3821\n",
            "3823\n",
            "3833\n",
            "3847\n",
            "3851\n",
            "3853\n",
            "3863\n",
            "3877\n",
            "3881\n",
            "3889\n",
            "3907\n",
            "3911\n",
            "3917\n",
            "3919\n",
            "3923\n",
            "3929\n",
            "3931\n",
            "3943\n",
            "3947\n",
            "3967\n",
            "3989\n",
            "4001\n",
            "4003\n",
            "4007\n",
            "4013\n",
            "4019\n",
            "4021\n",
            "4027\n",
            "4049\n",
            "4051\n",
            "4057\n",
            "4073\n",
            "4079\n",
            "4091\n",
            "4093\n",
            "4099\n",
            "4111\n",
            "4127\n",
            "4129\n",
            "4133\n",
            "4139\n",
            "4153\n",
            "4157\n",
            "4159\n",
            "4177\n",
            "4201\n",
            "4211\n",
            "4217\n",
            "4219\n",
            "4229\n",
            "4231\n",
            "4241\n",
            "4243\n",
            "4253\n",
            "4259\n",
            "4261\n",
            "4271\n",
            "4273\n",
            "4283\n",
            "4289\n",
            "4297\n",
            "4327\n",
            "4337\n",
            "4339\n",
            "4349\n",
            "4357\n",
            "4363\n",
            "4373\n",
            "4391\n",
            "4397\n",
            "4409\n",
            "4421\n",
            "4423\n",
            "4441\n",
            "4447\n",
            "4451\n",
            "4457\n",
            "4463\n",
            "4481\n",
            "4483\n",
            "4493\n",
            "4507\n",
            "4513\n",
            "4517\n",
            "4519\n",
            "4523\n",
            "4547\n",
            "4549\n",
            "4561\n",
            "4567\n",
            "4583\n",
            "4591\n",
            "4597\n",
            "4603\n",
            "4621\n",
            "4637\n",
            "4639\n",
            "4643\n",
            "4649\n",
            "4651\n",
            "4657\n",
            "4663\n",
            "4673\n",
            "4679\n",
            "4691\n",
            "4703\n",
            "4721\n",
            "4723\n",
            "4729\n",
            "4733\n",
            "4751\n",
            "4759\n",
            "4783\n",
            "4787\n",
            "4789\n",
            "4793\n",
            "4799\n",
            "4801\n",
            "4813\n",
            "4817\n",
            "4831\n",
            "4861\n",
            "4871\n",
            "4877\n",
            "4889\n",
            "4903\n",
            "4909\n",
            "4919\n",
            "4931\n",
            "4933\n",
            "4937\n",
            "4943\n",
            "4951\n",
            "4957\n",
            "4967\n",
            "4969\n",
            "4973\n",
            "4987\n",
            "4993\n",
            "4999\n",
            "5003\n",
            "5009\n",
            "5011\n",
            "5021\n",
            "5023\n",
            "5039\n",
            "5051\n",
            "5059\n",
            "5077\n",
            "5081\n",
            "5087\n",
            "5099\n",
            "5101\n",
            "5107\n",
            "5113\n",
            "5119\n",
            "5147\n",
            "5153\n",
            "5167\n",
            "5171\n",
            "5179\n",
            "5189\n",
            "5197\n",
            "5209\n",
            "5227\n",
            "5231\n",
            "5233\n",
            "5237\n",
            "5261\n",
            "5273\n",
            "5279\n",
            "5281\n",
            "5297\n",
            "5303\n",
            "5309\n",
            "5323\n",
            "5333\n",
            "5347\n",
            "5351\n",
            "5381\n",
            "5387\n",
            "5393\n",
            "5399\n",
            "5407\n",
            "5413\n",
            "5417\n",
            "5419\n",
            "5431\n",
            "5437\n",
            "5441\n",
            "5443\n",
            "5449\n",
            "5471\n",
            "5477\n",
            "5479\n",
            "5483\n",
            "5501\n",
            "5503\n",
            "5507\n",
            "5519\n",
            "5521\n",
            "5527\n",
            "5531\n",
            "5557\n",
            "5563\n",
            "5569\n",
            "5573\n",
            "5581\n",
            "5591\n",
            "5623\n",
            "5639\n",
            "5641\n",
            "5647\n",
            "5651\n",
            "5653\n",
            "5657\n",
            "5659\n",
            "5669\n",
            "5683\n",
            "5689\n",
            "5693\n",
            "5701\n",
            "5711\n",
            "5717\n",
            "5737\n",
            "5741\n",
            "5743\n",
            "5749\n",
            "5779\n",
            "5783\n",
            "5791\n",
            "5801\n",
            "5807\n",
            "5813\n",
            "5821\n",
            "5827\n",
            "5839\n",
            "5843\n",
            "5849\n",
            "5851\n",
            "5857\n",
            "5861\n",
            "5867\n",
            "5869\n",
            "5879\n",
            "5881\n",
            "5897\n",
            "5903\n",
            "5923\n",
            "5927\n",
            "5939\n",
            "5953\n",
            "5981\n",
            "5987\n",
            "6007\n",
            "6011\n",
            "6029\n",
            "6037\n",
            "6043\n",
            "6047\n",
            "6053\n",
            "6067\n",
            "6073\n",
            "6079\n",
            "6089\n",
            "6091\n",
            "6101\n",
            "6113\n",
            "6121\n",
            "6131\n",
            "6133\n",
            "6143\n",
            "6151\n",
            "6163\n",
            "6173\n",
            "6197\n",
            "6199\n",
            "6203\n",
            "6211\n",
            "6217\n",
            "6221\n",
            "6229\n",
            "6247\n",
            "6257\n",
            "6263\n",
            "6269\n",
            "6271\n",
            "6277\n",
            "6287\n",
            "6299\n",
            "6301\n",
            "6311\n",
            "6317\n",
            "6323\n",
            "6329\n",
            "6337\n",
            "6343\n",
            "6353\n",
            "6359\n",
            "6361\n",
            "6367\n",
            "6373\n",
            "6379\n",
            "6389\n",
            "6397\n",
            "6421\n",
            "6427\n",
            "6449\n",
            "6451\n",
            "6469\n",
            "6473\n",
            "6481\n",
            "6491\n",
            "6521\n",
            "6529\n",
            "6547\n",
            "6551\n",
            "6553\n",
            "6563\n",
            "6569\n",
            "6571\n",
            "6577\n",
            "6581\n",
            "6599\n",
            "6607\n",
            "6619\n",
            "6637\n",
            "6653\n",
            "6659\n",
            "6661\n",
            "6673\n",
            "6679\n",
            "6689\n",
            "6691\n",
            "6701\n",
            "6703\n",
            "6709\n",
            "6719\n",
            "6733\n",
            "6737\n",
            "6761\n",
            "6763\n",
            "6779\n",
            "6781\n",
            "6791\n",
            "6793\n",
            "6803\n",
            "6823\n",
            "6827\n",
            "6829\n",
            "6833\n",
            "6841\n",
            "6857\n",
            "6863\n",
            "6869\n",
            "6871\n",
            "6883\n",
            "6899\n",
            "6907\n",
            "6911\n",
            "6917\n",
            "6947\n",
            "6949\n",
            "6959\n",
            "6961\n",
            "6967\n",
            "6971\n",
            "6977\n",
            "6983\n",
            "6991\n",
            "6997\n",
            "7001\n",
            "7013\n",
            "7019\n",
            "7027\n",
            "7039\n",
            "7043\n",
            "7057\n",
            "7069\n",
            "7079\n",
            "7103\n",
            "7109\n",
            "7121\n",
            "7127\n",
            "7129\n",
            "7151\n",
            "7159\n",
            "7177\n",
            "7187\n",
            "7193\n",
            "7207\n",
            "7211\n",
            "7213\n",
            "7219\n",
            "7229\n",
            "7237\n",
            "7243\n",
            "7247\n",
            "7253\n",
            "7283\n",
            "7297\n",
            "7307\n",
            "7309\n",
            "7321\n",
            "7331\n",
            "7333\n",
            "7349\n",
            "7351\n",
            "7369\n",
            "7393\n",
            "7411\n",
            "7417\n",
            "7433\n",
            "7451\n",
            "7457\n",
            "7459\n",
            "7477\n",
            "7481\n",
            "7487\n",
            "7489\n",
            "7499\n",
            "7507\n",
            "7517\n",
            "7523\n",
            "7529\n",
            "7537\n",
            "7541\n",
            "7547\n",
            "7549\n",
            "7559\n",
            "7561\n",
            "7573\n",
            "7577\n",
            "7583\n",
            "7589\n",
            "7591\n",
            "7603\n",
            "7607\n",
            "7621\n",
            "7639\n",
            "7643\n",
            "7649\n",
            "7669\n",
            "7673\n",
            "7681\n",
            "7687\n",
            "7691\n",
            "7699\n",
            "7703\n",
            "7717\n",
            "7723\n",
            "7727\n",
            "7741\n",
            "7753\n",
            "7757\n",
            "7759\n",
            "7789\n",
            "7793\n",
            "7817\n",
            "7823\n",
            "7829\n",
            "7841\n",
            "7853\n",
            "7867\n",
            "7873\n",
            "7877\n",
            "7879\n",
            "7883\n",
            "7901\n",
            "7907\n",
            "7919\n",
            "7927\n",
            "7933\n",
            "7937\n",
            "7949\n",
            "7951\n",
            "7963\n",
            "7993\n",
            "8009\n",
            "8011\n",
            "8017\n",
            "8039\n",
            "8053\n",
            "8059\n",
            "8069\n",
            "8081\n",
            "8087\n",
            "8089\n",
            "8093\n",
            "8101\n",
            "8111\n",
            "8117\n",
            "8123\n",
            "8147\n",
            "8161\n",
            "8167\n",
            "8171\n",
            "8179\n",
            "8191\n",
            "8209\n",
            "8219\n",
            "8221\n",
            "8231\n",
            "8233\n",
            "8237\n",
            "8243\n",
            "8263\n",
            "8269\n",
            "8273\n",
            "8287\n",
            "8291\n",
            "8293\n",
            "8297\n",
            "8311\n",
            "8317\n",
            "8329\n",
            "8353\n",
            "8363\n",
            "8369\n",
            "8377\n",
            "8387\n",
            "8389\n",
            "8419\n",
            "8423\n",
            "8429\n",
            "8431\n",
            "8443\n",
            "8447\n",
            "8461\n",
            "8467\n",
            "8501\n",
            "8513\n",
            "8521\n",
            "8527\n",
            "8537\n",
            "8539\n",
            "8543\n",
            "8563\n",
            "8573\n",
            "8581\n",
            "8597\n",
            "8599\n",
            "8609\n",
            "8623\n",
            "8627\n",
            "8629\n",
            "8641\n",
            "8647\n",
            "8663\n",
            "8669\n",
            "8677\n",
            "8681\n",
            "8689\n",
            "8693\n",
            "8699\n",
            "8707\n",
            "8713\n",
            "8719\n",
            "8731\n",
            "8737\n",
            "8741\n",
            "8747\n",
            "8753\n",
            "8761\n",
            "8779\n",
            "8783\n",
            "8803\n",
            "8807\n",
            "8819\n",
            "8821\n",
            "8831\n",
            "8837\n",
            "8839\n",
            "8849\n",
            "8861\n",
            "8863\n",
            "8867\n",
            "8887\n",
            "8893\n",
            "8923\n",
            "8929\n",
            "8933\n",
            "8941\n",
            "8951\n",
            "8963\n",
            "8969\n",
            "8971\n",
            "8999\n",
            "9001\n",
            "9007\n",
            "9011\n",
            "9013\n",
            "9029\n",
            "9041\n",
            "9043\n",
            "9049\n",
            "9059\n",
            "9067\n",
            "9091\n",
            "9103\n",
            "9109\n",
            "9127\n",
            "9133\n",
            "9137\n",
            "9151\n",
            "9157\n",
            "9161\n",
            "9173\n",
            "9181\n",
            "9187\n",
            "9199\n",
            "9203\n",
            "9209\n",
            "9221\n",
            "9227\n",
            "9239\n",
            "9241\n",
            "9257\n",
            "9277\n",
            "9281\n",
            "9283\n",
            "9293\n",
            "9311\n",
            "9319\n",
            "9323\n",
            "9337\n",
            "9341\n",
            "9343\n",
            "9349\n",
            "9371\n",
            "9377\n",
            "9391\n",
            "9397\n",
            "9403\n",
            "9413\n",
            "9419\n",
            "9421\n",
            "9431\n",
            "9433\n",
            "9437\n",
            "9439\n",
            "9461\n",
            "9463\n",
            "9467\n",
            "9473\n",
            "9479\n",
            "9491\n",
            "9497\n",
            "9511\n",
            "9521\n",
            "9533\n",
            "9539\n",
            "9547\n",
            "9551\n",
            "9587\n",
            "9601\n",
            "9613\n",
            "9619\n",
            "9623\n",
            "9629\n",
            "9631\n",
            "9643\n",
            "9649\n",
            "9661\n",
            "9677\n",
            "9679\n",
            "9689\n",
            "9697\n",
            "9719\n",
            "9721\n",
            "9733\n",
            "9739\n",
            "9743\n",
            "9749\n",
            "9767\n",
            "9769\n",
            "9781\n",
            "9787\n",
            "9791\n",
            "9803\n",
            "9811\n",
            "9817\n",
            "9829\n",
            "9833\n",
            "9839\n",
            "9851\n",
            "9857\n",
            "9859\n",
            "9871\n",
            "9883\n",
            "9887\n",
            "9901\n",
            "9907\n",
            "9923\n",
            "9929\n",
            "9931\n",
            "9941\n",
            "9949\n",
            "9967\n",
            "9973\n"
          ]
        }
      ]
    },
    {
      "cell_type": "markdown",
      "source": [
        "SECTION D"
      ],
      "metadata": {
        "id": "B9s-5aYtSmXl"
      }
    },
    {
      "cell_type": "code",
      "source": [
        "num = int(input(\"Enter a number: \"))\n",
        "factorial = 1\n",
        "if num < 0:\n",
        "   print(\"Sorry, factorial does not exist for negative numbers\")\n",
        "elif num == 0:\n",
        "   print(\"The factorial of 0 is 1\")\n",
        "else:\n",
        "   for i in range(1,num + 1):\n",
        "       factorial = factorial*i\n",
        "   print(\"The factorial of\",num,\"is\",factorial)"
      ],
      "metadata": {
        "colab": {
          "base_uri": "https://localhost:8080/"
        },
        "id": "lETAIGGLSf3b",
        "outputId": "b8c718f7-a7ae-48fb-ef0b-4351278e3089"
      },
      "execution_count": 4,
      "outputs": [
        {
          "output_type": "stream",
          "name": "stdout",
          "text": [
            "Enter a number: 5\n",
            "The factorial of 5 is 120\n"
          ]
        }
      ]
    },
    {
      "cell_type": "code",
      "source": [
        "num = int(input(\"Display multiplication table of? \"))\n",
        "for i in range(1, 11):\n",
        "   print(num, 'x', i, '=', num*i)"
      ],
      "metadata": {
        "colab": {
          "base_uri": "https://localhost:8080/"
        },
        "id": "V_z2Yp5nS0Xr",
        "outputId": "325fc84d-b7ec-4be2-cbe1-f7f53000c0b5"
      },
      "execution_count": 7,
      "outputs": [
        {
          "output_type": "stream",
          "name": "stdout",
          "text": [
            "Display multiplication table of? 3\n",
            "3 x 1 = 3\n",
            "3 x 2 = 6\n",
            "3 x 3 = 9\n",
            "3 x 4 = 12\n",
            "3 x 5 = 15\n",
            "3 x 6 = 18\n",
            "3 x 7 = 21\n",
            "3 x 8 = 24\n",
            "3 x 9 = 27\n",
            "3 x 10 = 30\n"
          ]
        }
      ]
    },
    {
      "cell_type": "code",
      "source": [
        "a=0\n",
        "b=1\n",
        "print(a)\n",
        "print(b)\n",
        "for i in range(1,11):\n",
        "  c=a+b\n",
        "  a=b\n",
        "  b=c\n",
        "  print(c)"
      ],
      "metadata": {
        "colab": {
          "base_uri": "https://localhost:8080/"
        },
        "id": "ins7DKm5TChu",
        "outputId": "2dfec802-e038-4d61-d300-482e57c361f0"
      },
      "execution_count": 8,
      "outputs": [
        {
          "output_type": "stream",
          "name": "stdout",
          "text": [
            "0\n",
            "1\n",
            "1\n",
            "2\n",
            "3\n",
            "5\n",
            "8\n",
            "13\n",
            "21\n",
            "34\n",
            "55\n",
            "89\n"
          ]
        }
      ]
    },
    {
      "cell_type": "code",
      "source": [
        "num = int(input(\"Enter a number: \"))\n",
        "sum = 0\n",
        "temp = num\n",
        "while temp > 0:\n",
        "   digit = temp % 10\n",
        "   sum += digit ** 3\n",
        "   temp //= 10\n",
        "if num == sum:\n",
        "   print(num,\"is an Armstrong number\")\n",
        "else:\n",
        "   print(num,\"is not an Armstrong number\")\n"
      ],
      "metadata": {
        "colab": {
          "base_uri": "https://localhost:8080/"
        },
        "id": "0vkfhuEtTEAG",
        "outputId": "40f21bed-6b89-4293-dba5-7483da65bb1c"
      },
      "execution_count": 9,
      "outputs": [
        {
          "output_type": "stream",
          "name": "stdout",
          "text": [
            "Enter a number: 235\n",
            "235 is not an Armstrong number\n"
          ]
        }
      ]
    },
    {
      "cell_type": "code",
      "source": [
        " lower = int(input(\"Enter lower range: \"))\n",
        "upper = int(input(\"Enter upper range: \"))\n",
        "for i in range(lower, upper+1):\n",
        "  sum=0\n",
        "  num=i\n",
        "  while (i!=0):\n",
        "    digit = i % 10\n",
        "    sum = sum + (digit*digit*digit)\n",
        "    i= i // 10\n",
        "  if sum == num:\n",
        "    print(num)"
      ],
      "metadata": {
        "colab": {
          "base_uri": "https://localhost:8080/"
        },
        "id": "y0Ly5hwPTQOK",
        "outputId": "7c65c26e-fb7e-469e-9231-6032d91196e8"
      },
      "execution_count": 10,
      "outputs": [
        {
          "output_type": "stream",
          "name": "stdout",
          "text": [
            "Enter lower range: 1\n",
            "Enter upper range: 600\n",
            "1\n",
            "153\n",
            "370\n",
            "371\n",
            "407\n"
          ]
        }
      ]
    },
    {
      "cell_type": "code",
      "source": [
        "num = int(input(\"Enter a number: \"))\n",
        "if num < 0:\n",
        "   print(\"Enter a positive number\")\n",
        "else:\n",
        "   sum = 0\n",
        "   while(num > 0):\n",
        "       sum += num\n",
        "       num -= 1\n",
        "   print(\"The sum is\", sum)"
      ],
      "metadata": {
        "colab": {
          "base_uri": "https://localhost:8080/"
        },
        "id": "dWaiWc9GTVa5",
        "outputId": "16586533-06c2-4b3e-dde1-7b3ac3dfc4aa"
      },
      "execution_count": 11,
      "outputs": [
        {
          "output_type": "stream",
          "name": "stdout",
          "text": [
            "Enter a number: 345\n",
            "The sum is 59685\n"
          ]
        }
      ]
    },
    {
      "cell_type": "markdown",
      "source": [
        "SECTION E"
      ],
      "metadata": {
        "id": "aYFcxf9dTdcf"
      }
    },
    {
      "cell_type": "markdown",
      "source": [],
      "metadata": {
        "id": "bpvMtl6-Tdbm"
      }
    },
    {
      "cell_type": "code",
      "source": [
        "def _sum(arr):\n",
        "  sum = 0\n",
        "  for i in arr:\n",
        "\t\t  sum = sum + i\n",
        "  return(sum)\n",
        "arr = []\n",
        "arr = [19, 13, 14, 17]\n",
        "n = len(arr)\n",
        "ans = _sum(arr)\n",
        "print('Sum of the array is ', ans)\n"
      ],
      "metadata": {
        "colab": {
          "base_uri": "https://localhost:8080/"
        },
        "id": "aVYUCNNATcpB",
        "outputId": "ea02d2dd-cf1d-4852-905f-f647761c5fdb"
      },
      "execution_count": 12,
      "outputs": [
        {
          "output_type": "stream",
          "name": "stdout",
          "text": [
            "Sum of the array is  63\n"
          ]
        }
      ]
    },
    {
      "cell_type": "code",
      "source": [
        "def largest(arr, n):\n",
        "\tmax = arr[0]\n",
        "\tfor i in range(1, n):\n",
        "\t\tif arr[i] > max:\n",
        "\t\t\tmax = arr[i]\n",
        "\treturn max\n",
        "arr = [10, 324, 45, 90, 9808]\n",
        "n = len(arr)\n",
        "Ans = largest(arr, n)\n",
        "print(\"Largest in given array \", Ans)"
      ],
      "metadata": {
        "colab": {
          "base_uri": "https://localhost:8080/"
        },
        "id": "SF05iG93TjSi",
        "outputId": "e8c627e1-b831-482c-958c-adc4e637096b"
      },
      "execution_count": 13,
      "outputs": [
        {
          "output_type": "stream",
          "name": "stdout",
          "text": [
            "Largest in given array  9808\n"
          ]
        }
      ]
    },
    {
      "cell_type": "code",
      "source": [
        "def rotateArray(arr, n, d):\n",
        "\ttemp = []\n",
        "\ti = 0\n",
        "\twhile (i < d):\n",
        "\t\ttemp.append(arr[i])\n",
        "\t\ti = i + 1\n",
        "\ti = 0\n",
        "\twhile (d < n):\n",
        "\t\tarr[i] = arr[d]\n",
        "\t\ti = i + 1\n",
        "\t\td = d + 1\n",
        "\tarr[:] = arr[: i] + temp\n",
        "\treturn arr\n",
        "arr = [1, 2, 3, 4, 5, 6, 7]\n",
        "print(\"Array after left rotation is: \", end=' ')\n",
        "print(rotateArray(arr, len(arr), 3))"
      ],
      "metadata": {
        "colab": {
          "base_uri": "https://localhost:8080/"
        },
        "id": "BAjM-MMET1M6",
        "outputId": "209a180d-10a0-4f5f-9b17-2d8430f59921"
      },
      "execution_count": 14,
      "outputs": [
        {
          "output_type": "stream",
          "name": "stdout",
          "text": [
            "Array after left rotation is:  [4, 5, 6, 7, 1, 2, 3]\n"
          ]
        }
      ]
    },
    {
      "cell_type": "code",
      "source": [
        "def splitArr(a, n, k):\n",
        "  b = a[:k]\n",
        "  return (a[k::]+b[::])\n",
        "arr = [12, 10, 5, 6, 52, 36]\n",
        "n = len(arr)\n",
        "position = 3\n",
        "arr = splitArr(arr, n, position)\n",
        "for i in range(0, n):\n",
        "\tprint(arr[i], end = ' ')\n"
      ],
      "metadata": {
        "colab": {
          "base_uri": "https://localhost:8080/"
        },
        "id": "e1rbs4hNT5ja",
        "outputId": "dd633267-f22d-4f34-da80-380087b7c05d"
      },
      "execution_count": 15,
      "outputs": [
        {
          "output_type": "stream",
          "name": "stdout",
          "text": [
            "6 52 36 12 10 5 "
          ]
        }
      ]
    },
    {
      "cell_type": "code",
      "source": [
        "def isMonotonic(A):\n",
        "  return (all(A[i] <= A[i + 1] for i in range(len(A) - 1)) or\n",
        "\t\t\tall(A[i] >= A[i + 1] for i in range(len(A) - 1)))\n",
        "A = [5, 15, 10, 20]\n",
        "print(isMonotonic(A))\n"
      ],
      "metadata": {
        "colab": {
          "base_uri": "https://localhost:8080/"
        },
        "id": "b9RNOph0T99R",
        "outputId": "d431d779-0b63-442f-b281-3a6ac2868046"
      },
      "execution_count": 16,
      "outputs": [
        {
          "output_type": "stream",
          "name": "stdout",
          "text": [
            "False\n"
          ]
        }
      ]
    },
    {
      "cell_type": "markdown",
      "source": [
        "SECTION F"
      ],
      "metadata": {
        "id": "XIHu8Pf3UByu"
      }
    },
    {
      "cell_type": "code",
      "source": [
        "list1 = [11, 5, 17, 18, 23]\n",
        "print(\"sum =\",sum(list1))"
      ],
      "metadata": {
        "colab": {
          "base_uri": "https://localhost:8080/",
          "height": 187
        },
        "id": "L8UoYh47UEMy",
        "outputId": "ab7d5ce2-fb74-49f2-af4b-e97d28daaa22"
      },
      "execution_count": 33,
      "outputs": [
        {
          "output_type": "error",
          "ename": "TypeError",
          "evalue": "ignored",
          "traceback": [
            "\u001b[0;31m---------------------------------------------------------------------------\u001b[0m",
            "\u001b[0;31mTypeError\u001b[0m                                 Traceback (most recent call last)",
            "\u001b[0;32m<ipython-input-33-1c799231cefb>\u001b[0m in \u001b[0;36m<module>\u001b[0;34m\u001b[0m\n\u001b[1;32m      1\u001b[0m \u001b[0mlist1\u001b[0m \u001b[0;34m=\u001b[0m \u001b[0;34m[\u001b[0m\u001b[0;36m11\u001b[0m\u001b[0;34m,\u001b[0m \u001b[0;36m5\u001b[0m\u001b[0;34m,\u001b[0m \u001b[0;36m17\u001b[0m\u001b[0;34m,\u001b[0m \u001b[0;36m18\u001b[0m\u001b[0;34m,\u001b[0m \u001b[0;36m23\u001b[0m\u001b[0;34m]\u001b[0m\u001b[0;34m\u001b[0m\u001b[0;34m\u001b[0m\u001b[0m\n\u001b[0;32m----> 2\u001b[0;31m \u001b[0mprint\u001b[0m\u001b[0;34m(\u001b[0m\u001b[0;34m\"sum =\"\u001b[0m\u001b[0;34m,\u001b[0m\u001b[0msum\u001b[0m\u001b[0;34m(\u001b[0m\u001b[0mlist1\u001b[0m\u001b[0;34m)\u001b[0m\u001b[0;34m)\u001b[0m\u001b[0;34m\u001b[0m\u001b[0;34m\u001b[0m\u001b[0m\n\u001b[0m",
            "\u001b[0;31mTypeError\u001b[0m: 'int' object is not callable"
          ]
        }
      ]
    },
    {
      "cell_type": "code",
      "source": [
        "from operator import*\n",
        "list1 = [1, 2, 3]\n",
        "m = 1\n",
        "for i in list1:\n",
        "    m = mul(i, m)\n",
        "print(m)"
      ],
      "metadata": {
        "colab": {
          "base_uri": "https://localhost:8080/"
        },
        "id": "D60MmanpWJxC",
        "outputId": "bd114959-406a-4f53-a9fb-164284cba874"
      },
      "execution_count": 24,
      "outputs": [
        {
          "output_type": "stream",
          "name": "stdout",
          "text": [
            "6\n"
          ]
        }
      ]
    },
    {
      "cell_type": "code",
      "source": [
        "list = [120, 250, 350, 445,403, 997]\n",
        "list.sort()\n",
        "print(\"Smallest number is:\", *list[:1])"
      ],
      "metadata": {
        "colab": {
          "base_uri": "https://localhost:8080/"
        },
        "id": "fYAISk-rYdWU",
        "outputId": "9a6e560b-d8ee-4cf7-8e9c-4903415ebf74"
      },
      "execution_count": 25,
      "outputs": [
        {
          "output_type": "stream",
          "name": "stdout",
          "text": [
            "Smallest number is: 120\n"
          ]
        }
      ]
    },
    {
      "cell_type": "code",
      "source": [
        "list = [1240, 135, 1654, 4560, 9460]\n",
        "list.sort()\n",
        "print(\"Largest number is:\", list[-1])"
      ],
      "metadata": {
        "colab": {
          "base_uri": "https://localhost:8080/"
        },
        "id": "L9bojD1CYgLQ",
        "outputId": "28e53d60-bb60-4301-f74d-d1a3f66c3998"
      },
      "execution_count": 26,
      "outputs": [
        {
          "output_type": "stream",
          "name": "stdout",
          "text": [
            "Largest number is: 9460\n"
          ]
        }
      ]
    },
    {
      "cell_type": "code",
      "source": [
        "list1 = [5610, 26780, 36780, 4340, 5560] \n",
        "mx = max(list1[0], list1[1])\n",
        "secondmax = min(list1[0], list1[1])\n",
        "n = len(list1)\n",
        "for i in range(2,n):\n",
        "    if list1[i] > mx:\n",
        "        secondmax = mx\n",
        "        mx = list1[i]\n",
        "    elif list1[i] > secondmax and \\\n",
        "        mx != list1[i]:\n",
        "        secondmax = list1[i]\n",
        "    elif mx == secondmax and \\\n",
        "        secondmax != list1[i]:\n",
        "          secondmax = list1[i]\n",
        " \n",
        "print(\"Second largest number is : \",\\\n",
        "      str(secondmax))\n"
      ],
      "metadata": {
        "colab": {
          "base_uri": "https://localhost:8080/"
        },
        "id": "4V4R58mdYjTY",
        "outputId": "1fdceec3-24ba-4bfa-9573-c44542f9855a"
      },
      "execution_count": 27,
      "outputs": [
        {
          "output_type": "stream",
          "name": "stdout",
          "text": [
            "Second largest number is :  26780\n"
          ]
        }
      ]
    },
    {
      "cell_type": "code",
      "source": [
        "def Nmaxelements(list1, N):\n",
        "    final_list = [] \n",
        "    for i in range(0, N):\n",
        "        max1 = 0         \n",
        "        for j in range(len(list1)):    \n",
        "            if list1[j] > max1:\n",
        "                max1 = list1[j];\n",
        "                 \n",
        "        list1.remove(max1);\n",
        "        final_list.append(max1)\n",
        "         \n",
        "    print(final_list)\n",
        " \n",
        "list1 = [200, 320, 420, 504, 660,870, 880, 907, 1770]\n",
        "N = 5\n",
        "Nmaxelements(list1, N)\n"
      ],
      "metadata": {
        "colab": {
          "base_uri": "https://localhost:8080/"
        },
        "id": "9Sz24dLNYneG",
        "outputId": "f3c120fe-f194-4448-c1cc-14f0c2a73c6f"
      },
      "execution_count": 28,
      "outputs": [
        {
          "output_type": "stream",
          "name": "stdout",
          "text": [
            "[1770, 907, 880, 870, 660]\n"
          ]
        }
      ]
    },
    {
      "cell_type": "code",
      "source": [
        "list1 = [10, 21, 42, 54, 68, 88]\n",
        "for num in list1:\n",
        "    if num % 2 == 0:\n",
        "        print(num, end=\" \")"
      ],
      "metadata": {
        "colab": {
          "base_uri": "https://localhost:8080/"
        },
        "id": "rxH7RMszYrHc",
        "outputId": "ad0079d4-c6cc-4a02-c92c-86ad1f4963da"
      },
      "execution_count": 29,
      "outputs": [
        {
          "output_type": "stream",
          "name": "stdout",
          "text": [
            "10 42 54 68 88 "
          ]
        }
      ]
    },
    {
      "cell_type": "code",
      "source": [
        "list1 = [10, 21, 42, 54, 67, 85]\n",
        "for num in list1:\n",
        "    if num % 2 != 0:\n",
        "       print(num, end = \" \")"
      ],
      "metadata": {
        "colab": {
          "base_uri": "https://localhost:8080/"
        },
        "id": "avhhsKQ6Yv1c",
        "outputId": "0c3c91b2-153d-43b4-f23f-3472eebc6f2b"
      },
      "execution_count": 30,
      "outputs": [
        {
          "output_type": "stream",
          "name": "stdout",
          "text": [
            "21 67 85 "
          ]
        }
      ]
    },
    {
      "cell_type": "code",
      "source": [
        "list1 = [10, 20, 30, [], [], 60]\n",
        "print(\"The original list is : \" + str(list1))\n",
        "res = [ele for ele in list1 if ele != []]\n",
        "print(\"List after empty list removal : \" + str(res))"
      ],
      "metadata": {
        "colab": {
          "base_uri": "https://localhost:8080/"
        },
        "id": "q63i6oucYyy4",
        "outputId": "f6a464b6-c50e-4bd1-997f-0c2b03466ea7"
      },
      "execution_count": 31,
      "outputs": [
        {
          "output_type": "stream",
          "name": "stdout",
          "text": [
            "The original list is : [10, 20, 30, [], [], 60]\n",
            "List after empty list removal : [10, 20, 30, 60]\n"
          ]
        }
      ]
    },
    {
      "cell_type": "code",
      "source": [
        "def Cloning(list1):\n",
        "    li_copy = list1[:]\n",
        "    return li_copy\n",
        "list1 = [10, 20, 30, 40, 50, 60]\n",
        "list2 = Cloning(list1)\n",
        "print(\"Original List:\", list1)\n",
        "print(\"After Cloning:\", list2)"
      ],
      "metadata": {
        "colab": {
          "base_uri": "https://localhost:8080/"
        },
        "id": "UzSQ-ogCY2Gz",
        "outputId": "9267f1bc-875a-4378-f8f7-25a6a35382de"
      },
      "execution_count": 32,
      "outputs": [
        {
          "output_type": "stream",
          "name": "stdout",
          "text": [
            "Original List: [10, 20, 30, 40, 50, 60]\n",
            "After Cloning: [10, 20, 30, 40, 50, 60]\n"
          ]
        }
      ]
    },
    {
      "cell_type": "markdown",
      "source": [],
      "metadata": {
        "id": "8GJ8zEzaZkOE"
      }
    }
  ]
}